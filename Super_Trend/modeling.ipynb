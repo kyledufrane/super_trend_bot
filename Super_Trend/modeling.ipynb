{
 "cells": [
  {
   "cell_type": "markdown",
   "metadata": {},
   "source": [
    "### Modeling"
   ]
  },
  {
   "cell_type": "code",
   "execution_count": 5,
   "metadata": {},
   "outputs": [
    {
     "name": "stdout",
     "output_type": "stream",
     "text": [
      "Epoch 1/25\n",
      "65/65 [==============================] - 6s 37ms/step - loss: 0.0096\n",
      "Epoch 2/25\n",
      "65/65 [==============================] - 3s 39ms/step - loss: 0.0023\n",
      "Epoch 3/25\n",
      "65/65 [==============================] - 3s 39ms/step - loss: 0.0022\n",
      "Epoch 4/25\n",
      "65/65 [==============================] - 3s 41ms/step - loss: 0.0022\n",
      "Epoch 5/25\n",
      "65/65 [==============================] - 3s 39ms/step - loss: 0.0021\n",
      "Epoch 6/25\n",
      "65/65 [==============================] - 2s 38ms/step - loss: 0.0016\n",
      "Epoch 7/25\n",
      "65/65 [==============================] - 2s 38ms/step - loss: 0.0022\n",
      "Epoch 8/25\n",
      "65/65 [==============================] - 3s 39ms/step - loss: 0.0017\n",
      "Epoch 9/25\n",
      "65/65 [==============================] - 2s 38ms/step - loss: 0.0017\n",
      "Epoch 10/25\n",
      "65/65 [==============================] - 2s 38ms/step - loss: 0.0014\n",
      "Epoch 11/25\n",
      "65/65 [==============================] - 2s 38ms/step - loss: 0.0015\n",
      "Epoch 12/25\n",
      "65/65 [==============================] - 2s 38ms/step - loss: 0.0015\n",
      "Epoch 13/25\n",
      "65/65 [==============================] - 2s 38ms/step - loss: 0.0012\n",
      "Epoch 14/25\n",
      "65/65 [==============================] - 2s 38ms/step - loss: 0.0012\n",
      "Epoch 15/25\n",
      "65/65 [==============================] - 2s 38ms/step - loss: 0.0012\n",
      "Epoch 16/25\n",
      "65/65 [==============================] - 2s 38ms/step - loss: 0.0011\n",
      "Epoch 17/25\n",
      "65/65 [==============================] - 2s 38ms/step - loss: 0.0012\n",
      "Epoch 18/25\n",
      "65/65 [==============================] - 2s 38ms/step - loss: 0.0013\n",
      "Epoch 19/25\n",
      "65/65 [==============================] - 3s 39ms/step - loss: 0.0014\n",
      "Epoch 20/25\n",
      "65/65 [==============================] - 3s 39ms/step - loss: 0.0014\n",
      "Epoch 21/25\n",
      "65/65 [==============================] - 3s 39ms/step - loss: 0.0011\n",
      "Epoch 22/25\n",
      "65/65 [==============================] - 3s 39ms/step - loss: 0.0012\n",
      "Epoch 23/25\n",
      "65/65 [==============================] - 3s 39ms/step - loss: 0.0010\n",
      "Epoch 24/25\n",
      "65/65 [==============================] - 3s 39ms/step - loss: 9.6693e-04\n",
      "Epoch 25/25\n",
      "65/65 [==============================] - 3s 41ms/step - loss: 9.5963e-04\n"
     ]
    },
    {
     "data": {
      "image/png": "[encoded data removed]",
      "text/plain": [
       "<Figure size 432x288 with 1 Axes>"
      ]
     },
     "metadata": {
      "needs_background": "light"
     },
     "output_type": "display_data"
    }
   ],
   "source": [
    "import numpy as np\n",
    "import matplotlib.pyplot as plt\n",
    "import pandas as pd\n",
    "import pandas_datareader as web\n",
    "import datetime as dt\n",
    "\n",
    "from sklearn.preprocessing import MinMaxScaler\n",
    "from tensorflow.keras.layers import Dense, Dropout, LSTM\n",
    "from tensorflow.keras.models import Sequential\n",
    "\n",
    "%matplotlib inline\n",
    "\n",
    "crypto_currency = 'BTC'\n",
    "currency = 'USD'\n",
    "\n",
    "start = dt.datetime(2016,1,1)\n",
    "end = dt.datetime.now()\n",
    "\n",
    "data = web.DataReader(f'{crypto_currency}-{currency}', 'yahoo', start, end)\n",
    "\n",
    "scaler = MinMaxScaler(feature_range=(0,1))\n",
    "scaled_data = scaler.fit_transform(data['Close'].values.reshape(-1,1))\n",
    "\n",
    "prediction_days = 60\n",
    "\n",
    "x_train, y_train = [], []\n",
    "\n",
    "for x in range(prediction_days, len(scaled_data)):\n",
    "    x_train.append(scaled_data[x-prediction_days:x, 0])\n",
    "    y_train.append(scaled_data[x, 0])\n",
    "\n",
    "x_train, y_train = np.array(x_train), np.array(y_train)\n",
    "\n",
    "x_train = np.reshape(x_train, (x_train.shape[0], x_train.shape[1], 1))\n",
    "\n",
    "model = Sequential()\n",
    "\n",
    "model.add(LSTM(units=50, return_sequences=True, input_shape=(x_train.shape[1],1)))\n",
    "model.add(Dropout(0.2))\n",
    "model.add(LSTM(units=50, return_sequences=True))\n",
    "model.add(Dropout(0.2))\n",
    "model.add(LSTM(units=50))\n",
    "model.add(Dropout(0.2))\n",
    "model.add(Dense(units=1))\n",
    "\n",
    "model.compile(optimizer='adam', loss='mean_squared_error')\n",
    "\n",
    "model.fit(x_train, y_train, epochs=25, batch_size=32)\n",
    "\n",
    "test_start = dt.datetime(2020,1,1)\n",
    "test_end = dt.datetime.now()\n",
    "\n",
    "test_data = web.DataReader(f'{crypto_currency}-{currency}', 'yahoo', test_start, test_end)\n",
    "\n",
    "actual_prices = test_data['Close'].values\n",
    "\n",
    "total_dataset = pd.concat((data['Close'], test_data['Close']), axis=0)\n",
    "\n",
    "model_inputs = total_dataset[len(total_dataset) - len(test_data) - prediction_days:].values\n",
    "model_inputs = model_inputs.reshape(-1,1)\n",
    "model_inputs = scaler.fit_transform(model_inputs)\n",
    "\n",
    "x_test = []\n",
    "\n",
    "for x in range(prediction_days, len(model_inputs)):\n",
    "    x_test.append(model_inputs[x-prediction_days:x, 0])\n",
    "    \n",
    "x_test = np.array(x_test)\n",
    "x_test = np.reshape(x_test, (x_test.shape[0], x_test.shape[1], 1))\n",
    "\n",
    "prediction_prices = model.predict(x_test)\n",
    "prediction_prices = scaler.inverse_transform(prediction_prices)\n",
    "\n",
    "plt.plot(actual_prices, color='black', label='Actual Prices')\n",
    "plt.plot(prediction_prices, color='green', label= 'Predicted Prices')\n",
    "plt.title(f'{crypto_currency} price prediction')\n",
    "plt.xlabel('time')\n",
    "plt.ylabel('price')\n",
    "plt.legend(loc='upper left')\n",
    "plt.show();"
   ]
  },
  {
   "cell_type": "code",
   "execution_count": 7,
   "metadata": {},
   "outputs": [
    {
     "name": "stdout",
     "output_type": "stream",
     "text": [
      "WARNING:tensorflow:Model was constructed with shape (None, 60, 1) for input KerasTensor(type_spec=TensorSpec(shape=(None, 60, 1), dtype=tf.float32, name='lstm_12_input'), name='lstm_12_input', description=\"created by layer 'lstm_12_input'\"), but it was called on an input with incompatible shape (None, 59, 1).\n"
     ]
    },
    {
     "data": {
      "text/plain": [
       "array([[62477.48]], dtype=float32)"
      ]
     },
     "execution_count": 7,
     "metadata": {},
     "output_type": "execute_result"
    }
   ],
   "source": [
    "real_data = [model_inputs[len(model_inputs) + 1 - prediction_days:len(model_inputs)+1, 0]]\n",
    "real_data = np.array(real_data)\n",
    "\n",
    "real_data = np.reshape(real_data, (real_data.shape[0], real_data.shape[1], 1))\n",
    "prediction = model.predict(real_data)\n",
    "prediction = scaler.inverse_transform(prediction)\n",
    "prediction"
   ]
  },
  {
   "cell_type": "code",
   "execution_count": null,
   "metadata": {},
   "outputs": [],
   "source": []
  }
 ],
 "metadata": {
  "kernelspec": {
   "display_name": "myenv",
   "language": "python",
   "name": "myenv"
  },
  "language_info": {
   "codemirror_mode": {
    "name": "ipython",
    "version": 3
   },
   "file_extension": ".py",
   "mimetype": "text/x-python",
   "name": "python",
   "nbconvert_exporter": "python",
   "pygments_lexer": "ipython3",
   "version": "3.9.7"
  }
 },
 "nbformat": 4,
 "nbformat_minor": 4
}
